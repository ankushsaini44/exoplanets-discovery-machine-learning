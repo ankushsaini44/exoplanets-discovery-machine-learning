{
 "cells": [
  {
   "cell_type": "markdown",
   "metadata": {},
   "source": [
    "# A Machine Learning Approach to Exoplanets Discovery\n",
    "## Machine Learning Engineer Nanodegree\n",
    "\n",
    "##### Salvatore Mitrano\n",
    "\n",
    "August 9th, 2016"
   ]
  },
  {
   "cell_type": "markdown",
   "metadata": {},
   "source": [
    "## I. Definition"
   ]
  },
  {
   "cell_type": "markdown",
   "metadata": {},
   "source": [
    "### Project Overview\n",
    "In early October, twenty years ago, Michel Mayor and Didier Queloz of the Geneva Observatory in Switzerland made an announcement [1] destined to become history: the discovery of an Exoplanet orbiting a star similar to the Sun, the 51 Pegasi star, 48 light-years away towards the constellation of Pegasus. For the uninformed reader, an exoplanet is a planet outside our solar system orbiting a star other than our sun. Since then, the race to the discovery of exoplanets began. However, just recently, with the advancement in technology and the launch of space telescopes like [Kepler](http://kepler.nasa.gov/), exoplanetary discovery has boomed. Since this is just the beginning to exoplanetary discovery, [more mission are being scheduled to discover exoplanets](http://www.searchforlife.net/exoplanet-missions/), the purpose of this project is to create a model, using machine learning, that will allow scientist and researchers to simplify the process of discovery."
   ]
  },
  {
   "cell_type": "markdown",
   "metadata": {},
   "source": [
    "### Problem Statement\n",
    "\n",
    "The main problem in exoplanetary discovery is that scientist and researchers take a long time to check if there is a candidate planet orbiting a star. This project proposes an alternative method, using machine learning, to discover exoplanets orbiting a star. Before explaining the approach taken to solve this problem, some terminology has to be described:\n",
    "- A **Light Curve** is a graph that represent the change in brightness of a star over time.\n",
    "- A **Planetary Transit** is a astronomical method used for the discovery of exoplanets. The method consists in the detection of the decrease in brightness of the light curve of a star when a planet passes in front of the parent star. The decrease in brightness is related to the relative size of the parent star, the planet and its orbit. As you can see in the Figure below, as the planet passes through the star, the brightness of the star diminish. To understand this topic further, I suggest watching this [youtube video](https://www.youtube.com/watch?v=nO9tdUROMhg)![Planetary Transit](images/transit_light_curve.png \"Planetary Transit\")\n",
    "- **The Kepler Telescope** is a space telescope whose purpose is the research and confirmation of Earth-like planets orbiting stars other than the Sun. The Kepler telescope was \"specifically designed to monitor a portion of our region of the Milky Way and discover dozens of Earth-like planets in or near the habitable zone and determine how many of the billions of stars in our galaxy possess planets.\" [2]\n",
    "\n",
    "The Kepler telescope, which has been in function since 2009, thanks to scientists, has confirmed 2290 planets, discovered 4120 False Positive exoplanets, and has still 2416 candidates Planets to be confirmed or debunked. The approach that I took was to work with the raw data collected by the Kepler telescope between 2009 and 2013, use the already confirmed exoplanets and false positive to train a machine learning algorithm to recognize future planets. The last step was to apply the trained algorithm to the still candidate exoplanet and check the results."
   ]
  },
  {
   "cell_type": "markdown",
   "metadata": {},
   "source": [
    "### Metrics\n",
    "During this project, one type of metrics have been used: Precision.\n",
    "\n",
    "Precision is a pretty common metric used in binary classifiers. As a matter of fact, differently from the f1 metric, which is a weighted average of precision and recall, precision only take into account true positive over true positive plus false positive. The choice of using precision is due to the fact that this is a discovery project; therefore; I am more concern of the true positive results. Indeed, if a planet is categorized as “false negative” it status will remain still candidate, because there are no strong evidences to promote it as false negative\n",
    "![Accuracy Metric](images/precision-formula.png \"Accuracy Metric\")\n",
    "\n",
    "Moreover I used the confusion matrix for a visual justification on how the model was performing, checking false positive and false negatives\n",
    "\n",
    "The confusion matrix is another common metric used in binary classifiers. It is a table that describes the performance of a classifier, showing the number of the correct true positive, false positive, true negative, false negative.\n",
    "![Confusion Matrix](images/confusion_matrix.png \"Confusion Matrix\")"
   ]
  },
  {
   "cell_type": "markdown",
   "metadata": {},
   "source": [
    "### Frameworks and Libraries\n",
    "Except for all the usual python Libraries used during the course of the Nanodegree such as Sklearn, Numpy, and Pandas, the following libraries have been used in the project:\n",
    "- **[kplr](http://dan.iel.fm/kplr/)** is a python interface to the Kepler data. It allows to search the Kepler data catalog and retrieve the light-curves of a planet, just referencing the KOI (Kepler Object of Interest) name. **_[Need to be installed]_**\n",
    "- **[PyFITs](http://www.stsci.edu/institute/software_hardware/pyfits)** is a python library that allows reading and processing of FITs files. Flexible Image Transport System or more commonly (FITS) is an open standard file format useful for storage of scientific and other images. FITS files are most commonly used in astronomy. **_[Need to be installed]_**\n",
    "- **[Joblib](https://pythonhosted.org/joblib/installing.html)** is a python pipelining for simple parallel computing. **_[Need to be installed]_**\n",
    "- **[PyKE](http://keplerscience.arc.nasa.gov/PyKE.shtml)** is a software developed by nasa that allows to process and normalize the Kepler Data. **_[Already included in the project]_**\n",
    "\n",
    "The first three libraries are easily installable using pip. Here are the commands for the terminal:\n",
    "\n",
    "*pip install kplr*\n",
    "\n",
    "*pip install pyfits*\n",
    "\n",
    "*pip install joblib*"
   ]
  },
  {
   "cell_type": "markdown",
   "metadata": {},
   "source": [
    "## II. Analysis"
   ]
  },
  {
   "cell_type": "markdown",
   "metadata": {},
   "source": [
    "### Data Exploration\n",
    "The first step towards analyzing and creating a model to recognize exoplanets was to find a reliable source to collect information about the exoplanets processed by the Kepler telescope. Thanks to the [Kepler Exoplanet Archive](http://exoplanetarchive.ipac.caltech.edu/cgi-bin/TblView/nph-tblView?app=ExoTbls&config=cumulative), I was able to find a list of all the planets processed by the Kepler telescope with their relative Kepler Object of Interest(KOI), and status (Confirmed, False Positive, and Candidate). Subsequently, I used the Kplr python library to pull the light curves of each planet retrieved from the Kepler Exoplanet Archive. The light curves are a time series representation; therefore, each time data point in the data of the light curves has some attribute related with it [3]. The attributes of the light curve stored in the FITs files include:\n",
    "- **TIME**: The time at the mid-point of the cadence in BKJD (Kepler Barycentric Julian Day).\n",
    "- **TIMECORR**: The barycenter correction calculated by the pipeline plus the time slice correction.\n",
    "- **SAP_FLUX**: The flux in units of electrons per second contained in the optimal aperture pixels collected by the spacecraft.\n",
    "- **SAP_FLUX_ERR**: The error in the simple aperture photometry as determined by PA in electrons per second.\n",
    "- **SAP_BKG**: The total background flux summed over the optimal aperture in electrons per second.\n",
    "- **SAP_BKG_ERR**: The 1-sigma error in the simple aperture photometry background flux.\n",
    "- **PDCSAP_FLUX**: The flux contained in the optimal aperture in electrons per second after the PDC module has applied its co-trending  algorithm.\n",
    "- **PDCSAP_FLUX_ERR **: The 1-sigma error in PDC flux values.\n",
    "- **SAP_QUALITY**: Flags containing information about the quality of the data.\n",
    "- **PSF_CENTR1**: The column centroid calculated by fitting the point-spread function.\n",
    "- **PSF_CENTR1_ERR**: The 1-sigma error in PSF-fitted column centroid.\n",
    "- **PSF_CENTR2**: The row centroid calculated by fitting the point-spread function.\n",
    "- **PSF_CENTR2_ERR**: The 1-sigma error in PSF-fitted row centroid.\n",
    "- **MOM_CENTR1**: The column value for the flux-weighted centroid position of the target at this cadence.\n",
    "- **MOM_CENTR1_ERR**: The 1-sigma error in the column value for the first moment centroid position.\n",
    "- **MOM_CENTR2**: The row value for the flux-weighted centroid position of the target at each cadence.\n",
    "- **MOM_CENTR2_ERR**: The 1-sigma error in the row value for the first moment centroid position.\n",
    "- **POS_CORR1**: The column component of the local image motion calculated from the motion polynomials.\n",
    "- **POS_CORR2**: The row component of the local image motion calculated from the motion polynomials.\n",
    "\n",
    "The light curve files for each star are divided into quarters; thus, the quarters needed to be stitched together. Moreover, since the Flux of electrons came with different sorts of systematic and environmental errors, the flux needed to be normalized and detrended. This step was easily accomplished thanks to PyKE library, which allows stitching quarters together and detrending data. The picture below shows the light curve from the star K-752 before and after the normalization process.\n",
    "![Normalized K752](images/K752.01.png \"Normalized K752\")\n",
    "\n",
    "Subsequently, I needed a way to compare the time series of flux of two stars. Therefore, I ended up using an algorithm called Dynamic Time Warping (DTW), which is widely common for the comparison of two time series [4][5]. The Dynamic Time Warping algorithm finds an optimal match between two sequences of feature vectors which allows for stretched and compressed sections of the sequence. I decided to choose a star that had a regular planetary transit in its light curve as a baseline for comparison.\n",
    "\n",
    "Finally, I created a table with the DTW comparison of the 3 different fluxes and the statistical attributes (mean, std, min, max) of the following: **_SAP_FLUX, SAP_BKG, PDCSAP_FLUX, DETSAP_FLUX, MOM_CENTR1, MOM_CENTR2, POS_CORR1, POS_CORR2 _**. These values provided important features of a light curve data.\n",
    "\n",
    "One thing to be notice is that the DTW algorithm do not always find a comparison value for two time series. Therefore, after processing all the planets, form the 8825 planets processed by the Kepler telescope, 18.03% (1595 planets) is eliminated from the training data for the machine learning implementation.\n",
    "\n",
    "The picture below gives a little bit of intuition on how the DTW algorithm works.\n",
    "\n",
    "\n",
    "![Dynamic Time Warping](images/dynamic-time-warping.jpg \"Dynamic Time Warping\")"
   ]
  },
  {
   "cell_type": "markdown",
   "metadata": {},
   "source": [
    "### Exploratory Visualization\n",
    "The figure below shows the 7 most relevant features of the data set. I chose seven oust for the sake of visualization. You can see all of them on the implementation section. As you can see, the choice of detrending the data and apply the Dynamic Time Warping algorithm on the light curve, really paid off. Indeed, the most relevant feature is the DTW of the detrended flux, and the second, third and forth most relevant features are the standard deviation, mean, and minimum of the detrended flux. This graph has been generated fitting the entire data to a Random Forrest Classifiers, extracting the importance of each features. In the implementation phase you will see how this plays a role on reducing the number of features. The blue lines represent the standard deviation of each feature.\n",
    "\n",
    "![Features Importance](images/features_importance.png \"Features Importance\")"
   ]
  },
  {
   "cell_type": "markdown",
   "metadata": {},
   "source": [
    "### Algorithms and Techniques\n",
    "The algorithms I will use for this project are the most common methods used for classification problems. This includes:\n",
    "- Naive Bayes\n",
    "- Logistic Regression\n",
    "- Random Forest\n",
    "- Support Vector Machines (SVM)\n",
    "\n",
    "\n",
    "I choose Naive Bayes because is a super simple classifier. Indeed, if the conditional independence assumption holds, a Naive Bayes classifier will converge quicker than the other 3 classifiers I have chosen. \n",
    "I choose Logistic Regression because it is a classifier that has a lots of ways to regularize the model, and I don't have to to worry about correlated features, differently from Naive Bayes.\n",
    "I choose Decision Tree because it is a non-parametric classifier and I don't have to worry if the data is not linearly separable.\n",
    "I choose SVM because of it Hight accuracy and theoretical guarantees regarding overfitting.\n",
    "\n",
    "\n",
    "I will use the precision metric to see which one performs best according to the dataset and then I will tune the parameters for that algorithm to improve its performance. I decided to follow this route due to the unpredictability and similarity of the dataset data points. As a matter of fact, each data point is very similar even if the two classes are very distinct (Confirmed, False Positive)."
   ]
  },
  {
   "cell_type": "markdown",
   "metadata": {},
   "source": [
    "### Benchmark\n",
    "Since this is a research project, there are not real clear benchmarks. However, thanks to the Confusion Matrix and K-folds method, some metrics, to test the performance of the different algorithms, are available. I am expecting that the best algorithm will have an precision metric of at least 60%. I choose 60% because I believe that it will be able to fit the data; however; it will not be able to make good predictions due to the fact that the data set is really sensitive to and very close, even if the categories are really different.  Moreover, when applying the model to the still candidate planets, which the researchers are still evaluating, I am expecting to find no more than 5 planets to be confirmed, with a discovery rate lower than 1%. This low margin is due to the fact that human have categorized the dataset of exoplanet as Confirmed or False Negative. Therefore, I do not believe that the algorithm, with that human bias pre-built into it, will able to recognize plates that the humans could not. I believe will find some exoplanets that the human eye could not recognize."
   ]
  },
  {
   "cell_type": "markdown",
   "metadata": {},
   "source": [
    "## III. Methodology"
   ]
  },
  {
   "cell_type": "markdown",
   "metadata": {},
   "source": [
    "### Libraries Import"
   ]
  },
  {
   "cell_type": "code",
   "execution_count": 1,
   "metadata": {
    "collapsed": true
   },
   "outputs": [],
   "source": [
    "# Import Generic libraries\n",
    "import numpy as np\n",
    "import pandas as pd\n",
    "from time import time\n",
    "from datetime import datetime\n",
    "import matplotlib.pyplot as plt\n",
    "from IPython.display import display # Allows the use of display() for DataFrames\n",
    "\n",
    "# Show matplotlib plots inline (nicely formatted in the notebook)\n",
    "%matplotlib inline"
   ]
  },
  {
   "cell_type": "markdown",
   "metadata": {},
   "source": [
    "This first import is needed to add all the libraries for processing the kepler data."
   ]
  },
  {
   "cell_type": "code",
   "execution_count": 2,
   "metadata": {
    "collapsed": true
   },
   "outputs": [],
   "source": [
    "# Import Libraries to process the kepler Data\n",
    "import kplr\n",
    "import pyfits\n",
    "from PyKE.kepstitch import kepstitch\n",
    "from PyKE.kepflatten import kepflatten\n",
    "from algorithms.dtw import LB_Keogh\n",
    "\n",
    "# Import Library for parallel computing\n",
    "import multiprocessing\n",
    "from joblib import Parallel, delayed"
   ]
  },
  {
   "cell_type": "markdown",
   "metadata": {},
   "source": [
    "This second import is needed to add all the libraries to apply the machine learning algorithm to the processed data."
   ]
  },
  {
   "cell_type": "code",
   "execution_count": 3,
   "metadata": {
    "collapsed": true
   },
   "outputs": [],
   "source": [
    "# Import SkLearn libraries\n",
    "# Import Metrics\n",
    "from sklearn.metrics import f1_score\n",
    "from sklearn.metrics import precision_score\n",
    "from sklearn.metrics import confusion_matrix\n",
    "from sklearn.metrics import make_scorer\n",
    "\n",
    "# Import Machine learning Algorithms\n",
    "from sklearn.naive_bayes import GaussianNB\n",
    "from sklearn.linear_model import LogisticRegression\n",
    "from sklearn.tree import DecisionTreeClassifier\n",
    "from sklearn.svm import SVC\n",
    "\n",
    "# Import Cross Validation and Grid Searcch Libraries\n",
    "from sklearn.cross_validation import train_test_split, KFold\n",
    "from sklearn.grid_search import GridSearchCV\n",
    "from sklearn.preprocessing import Normalizer\n",
    "from sklearn.ensemble import ExtraTreesClassifier"
   ]
  },
  {
   "cell_type": "markdown",
   "metadata": {},
   "source": [
    "### Data Preprocessing\n",
    "\n",
    "Processing the Kepler data was the most difficult task of the project. As a matter of fact, each start had approximately 1 GB of information. Moreover, the algorithms used to stitch and detrend the data were of order O(n^2), adding more delay to the process. To process all of the planets, I had to rent a supercomputer with 32 cores through [Domino Data Labs](https://www.dominodatalab.com/). If I would have processed all the data with my computer that has 4 cores, the process would have taken 30 Days. Instead, with Domino's platform, it took approximately 2 days.\n",
    "\n",
    "\n",
    "The first step in the data analysis process was to read the list of planets from the Kepler telescope collected from the Kepler Exoplanet Archive. Subsequently, get some sense of the data."
   ]
  },
  {
   "cell_type": "code",
   "execution_count": 4,
   "metadata": {
    "collapsed": false
   },
   "outputs": [
    {
     "name": "stdout",
     "output_type": "stream",
     "text": [
      "Number of total Planets: 8824, Confirmed: 2288, False Positive: 4120, Candidates: 2416\n"
     ]
    }
   ],
   "source": [
    "# Setting up log filename\n",
    "LOG_FILENAME = 'processing_kepler_data.log'\n",
    "\n",
    "# Read the planets list from the csv file\n",
    "planets = pd.read_csv('data/candidate_planets.csv')\n",
    "\n",
    "# Remove Baseline light curve chosen\n",
    "planets = planets.ix[2:]\n",
    "\n",
    "# Remove the K and transorm to float type allowing KPLR Library to process the name\n",
    "planets['kepoi_name'] = planets['kepoi_name'].str.replace('K', '').astype(float)\n",
    "\n",
    "# Get Some Count of the data\n",
    "confirmed = planets.loc[planets['koi_disposition'] == 'CONFIRMED']\n",
    "false_positive = planets.loc[planets['koi_disposition'] == 'FALSE POSITIVE']\n",
    "candidate = planets.loc[planets['koi_disposition'] == 'CANDIDATE']\n",
    "\n",
    "print \"Number of total Planets: {}, Confirmed: {}, False Positive: {}, Candidates: {}\" \\\n",
    "    .format(planets.shape[0], confirmed.shape[0], false_positive.shape[0], candidate.shape[0])"
   ]
  },
  {
   "cell_type": "markdown",
   "metadata": {},
   "source": [
    "The next step was to create a dataframe that would hold the processed information for each planet. Next step was to collect the information of the baseline light curve chosen prior and get the time series of the **SAP_FLUX, SAP_BKG, PDCSAP_FLUX, DETSAP_FLUX**."
   ]
  },
  {
   "cell_type": "code",
   "execution_count": 5,
   "metadata": {
    "collapsed": false
   },
   "outputs": [
    {
     "name": "stdout",
     "output_type": "stream",
     "text": [
      "Holder DataFrame Created\n",
      "Baselines Variables Created\n"
     ]
    }
   ],
   "source": [
    "# Setting up the resultant dataframe columns name\n",
    "DF_COLUMNS = ('kepoi_name', 'koi_disposition',\n",
    "              'dtw_sap_flux', 'sap_flux_mean', 'sap_flux_std', 'sap_flux_min', 'sap_flux_max',\n",
    "              'dtw_sap_bkg', 'sap_bkg_mean', 'sap_bkg_std', 'sap_bkg_min', 'sap_bkg_max',\n",
    "              'dtw_pd_sap_flux', 'pd_sap_flux_mean', 'pd_sap_flux_std', 'pd_sap_flux_min', 'pd_sap_flux_max',\n",
    "              'dtw_det_sap_flux', 'det_sap_flux_mean', 'det_sap_flux_std', 'det_sap_flux_min', 'det_sap_flux_max',\n",
    "              'mom_centr1_mean', 'mom_centr1_std', 'mom_centr1_min', 'mom_centr1_max',\n",
    "              'mom_centr2_mean', 'mom_centr2_std', 'mom_centr2_min', 'mom_centr2_max',\n",
    "              'pos_corr1_mean', 'pos_corr1_std', 'pos_corr1_min', 'pos_corr1_max',\n",
    "              'pos_corr2_mean', 'pos_corr2_std', 'pos_corr2_min', 'pos_corr2_max')\n",
    "\n",
    "# Creating the Dataframe\n",
    "df = pd.DataFrame(columns=DF_COLUMNS)\n",
    "\n",
    "print \"Holder DataFrame Created\"\n",
    "\n",
    "# Opening the baseline curve FITs File\n",
    "hdu = pyfits.open(\"data/detrended/752.01.fits\")\n",
    "\n",
    "# Grab the data from the file\n",
    "hdu_data = hdu[1].data\n",
    "\n",
    "# Create the baseline time series for SAP_FLUX, SAP_BKG, PDCSAP_FLUX, DETSAP_FLUX\n",
    "baseline_sap_flux = pd.Series(np.array(hdu_data[\"SAP_FLUX\"]))\n",
    "baseline_sap_bkg = pd.Series(np.array(hdu_data[\"SAP_BKG\"]))\n",
    "baseline_pd_sap_flux = pd.Series(np.array(hdu_data[\"PDCSAP_FLUX\"]))\n",
    "baseline_det_sap_flux = pd.Series(np.array(hdu_data[\"DETSAP_FLUX\"]))\n",
    "\n",
    "print \"Baselines Variables Created\""
   ]
  },
  {
   "cell_type": "markdown",
   "metadata": {},
   "source": [
    "The next step was to create a function that processed the data for a single planet. This function takes the index of the planets dataframe, the planet dataframe, the output dataframe and the baseline data, processing all the data from a single planet, adding a row to the output dataframe."
   ]
  },
  {
   "cell_type": "code",
   "execution_count": 6,
   "metadata": {
    "collapsed": true
   },
   "outputs": [],
   "source": [
    "def processPlanetData(index, planets, df, baseline_sap_flux, baseline_sap_bkg, baseline_pd_sap_flux, baseline_det_sap_flux):\n",
    "    \n",
    "    # Get Kepler Object of Interest name and disposition\n",
    "    kepoi_name = planets.iloc[index]['kepoi_name']\n",
    "    koi_disposition = planets.iloc[index]['koi_disposition']\n",
    "    \n",
    "    # Set Files Names for the resultant Stiched File and Resultant Detrended File\n",
    "    filenameStitch = \"data/stitched/{}.fits\".format(kepoi_name)\n",
    "    filenameDetrend = \"data/detrended/{}.fits\".format(kepoi_name)\n",
    "    \n",
    "    # Initialize kplr API\n",
    "    client = kplr.API()\n",
    "\n",
    "    print \"Processing Kepler Object: {} at index: {}\".format(kepoi_name, index)\n",
    "\n",
    "    # Find a Kepler Object of Interest\n",
    "    koi = client.koi(planets.iloc[index]['kepoi_name'])\n",
    "\n",
    "    # Get a list of light curve data sets.\n",
    "    lcs = koi.get_light_curves(short_cadence=False, fetch=True, clobber=False)\n",
    "\n",
    "    print \"Got Kepler Object of Interest and Light Curve Files for {}\".format(kepoi_name)\n",
    "    \n",
    "    lc_list = \"\"\n",
    "\n",
    "    # Looping trough lcs to get list of light curves path\n",
    "    for lc in lcs:\n",
    "        lc_list += str(lc.filename) + \",\"\n",
    "\n",
    "    # Removing trailing comma\n",
    "    lc_list_clean = lc_list[:-1]\n",
    "\n",
    "    print \"Got path list of light curves.\"\n",
    "\n",
    "    # Stitching together light curves quarters\n",
    "    kepstitch(lc_list_clean, filenameStitch, True, False, LOG_FILENAME, 0)\n",
    "    \n",
    "    print \"Finished Stiching the data for {}\".format(kepoi_name)\n",
    "    \n",
    "    # Detrending Light Curve\n",
    "    kepflatten(filenameStitch, filenameDetrend, \"PDCSAP_FLUX\", \"PDCSAP_FLUX_ERR\",\n",
    "               3.0, 1.0, 3.0, 3, 10, \"0,0\", False, True, False, LOG_FILENAME, 0, True)\n",
    "    \n",
    "    print \"Finished Detrending the data for {}\".format(kepoi_name)\n",
    "    \n",
    "    # Opening Detrended FITs File\n",
    "    hdu = pyfits.open(filenameDetrend)\n",
    "    \n",
    "    # Getting Detrended Data\n",
    "    hdu_data = hdu[1].data\n",
    "    \n",
    "    # Getting all features form the Fit Files\n",
    "    sap_flux = pd.Series(np.array(hdu_data[\"SAP_FLUX\"]))\n",
    "    sap_bkg = pd.Series(np.array(hdu_data[\"SAP_BKG\"]))\n",
    "    pd_sap_flux = pd.Series(np.array(hdu_data[\"PDCSAP_FLUX\"]))\n",
    "    det_sap_flux = pd.Series(np.array(hdu_data[\"DETSAP_FLUX\"]))\n",
    "    mom_centr1 = pd.Series(np.array(hdu_data[\"MOM_CENTR1\"]))\n",
    "    mom_centr2 = pd.Series(np.array(hdu_data[\"MOM_CENTR2\"]))\n",
    "    pos_corr1 = pd.Series(np.array(hdu_data[\"POS_CORR1\"]))\n",
    "    pos_corr2 = pd.Series(np.array(hdu_data[\"POS_CORR2\"]))\n",
    "    \n",
    "    # Try to apply DTW with the baseline. If fails return NaN\n",
    "    try:\n",
    "        dtw_sap_flux = LB_Keogh(sap_flux, baseline_sap_flux, 10)\n",
    "        dtw_sap_bkg = LB_Keogh(sap_bkg, baseline_sap_bkg, 10)\n",
    "        dtw_pd_sap_flux = LB_Keogh(pd_sap_flux, baseline_pd_sap_flux, 10)\n",
    "        dtw_det_sap_flux = LB_Keogh(det_sap_flux, baseline_det_sap_flux, 10)\n",
    "    except:\n",
    "        dtw_sap_flux, dtw_sap_bkg, dtw_pd_sap_flux, dtw_det_sap_flux = 'nan', 'nan', 'nan', 'nan'\n",
    "        pass\n",
    "    \n",
    "    print \"dtw_sap_flux: {}, dtw_sap_bkg: {}, dtw_pd_sap_flux: {}, dtw_det_sap_flux: {}\".format(\n",
    "        dtw_sap_flux, dtw_sap_bkg, dtw_pd_sap_flux, dtw_det_sap_flux)\n",
    "    \n",
    "    # Describe the Features Extracted (STD, MEAN, MIN, MAX)\n",
    "    desc_sap_flux, desc_sap_bkg = sap_flux.describe(), sap_bkg.describe()\n",
    "    desc_pd_sap_flux, desc_det_sap_flux  = pd_sap_flux.describe(), det_sap_flux.describe()\n",
    "    desc_mom_centr1, desc_mom_centr2 = mom_centr1.describe(), mom_centr2.describe()\n",
    "    desc_pos_corr1, desc_pos_corr2 = pos_corr1.describe(), pos_corr2.describe()\n",
    "    \n",
    "    print \"Features Described Correctly.\"\n",
    "    \n",
    "    # Apply the Features to the dataframe\n",
    "    df.loc[index] = [kepoi_name, koi_disposition,\n",
    "                     dtw_sap_flux, desc_sap_flux['mean'], desc_sap_flux['std'], desc_sap_flux['min'], desc_sap_flux['max'],\n",
    "                     dtw_sap_bkg, desc_sap_bkg['mean'], desc_sap_bkg['std'], desc_sap_bkg['min'], desc_sap_bkg['max'],\n",
    "                     dtw_pd_sap_flux, desc_pd_sap_flux['mean'], desc_pd_sap_flux['std'], desc_pd_sap_flux['min'], desc_pd_sap_flux['max'],\n",
    "                     dtw_det_sap_flux, desc_det_sap_flux['mean'], desc_det_sap_flux['std'], desc_det_sap_flux['min'], desc_det_sap_flux['max'],\n",
    "                     desc_mom_centr1['mean'], desc_mom_centr1['std'], desc_mom_centr1['min'], desc_mom_centr1['max'],\n",
    "                     desc_mom_centr2['mean'], desc_mom_centr2['std'], desc_mom_centr2['min'], desc_mom_centr2['max'],\n",
    "                     desc_pos_corr1['mean'], desc_pos_corr1['std'], desc_pos_corr1['min'], desc_pos_corr1['max'],\n",
    "                     desc_pos_corr2['mean'], desc_pos_corr2['std'], desc_pos_corr2['min'], desc_pos_corr2['max']\n",
    "                     ]\n",
    "    \n",
    "    print \"Dataframe Row Added Correctly.\""
   ]
  },
  {
   "cell_type": "markdown",
   "metadata": {},
   "source": [
    "Finally, I have implemented the parallel function that would process all the planet. For the sake of this notebook, I set up the number of core equal to 1, since not all the computers would be able to parallel compute this data. Moreover, since to process each planet it takes approximately 3 minutes, I set up a limit of 2 planets to be processed.\n",
    "\n",
    "Lastly, the dataframe is converted to a csv file, to be used later to apply Machine Learning, and the head of the dataframe is presented.\n",
    "\n",
    "If it throw a PyfitsDeprecationWarning, do not worry, it is just an old library I could not replace. The code will continue running anyway."
   ]
  },
  {
   "cell_type": "code",
   "execution_count": 8,
   "metadata": {
    "collapsed": false
   },
   "outputs": [
    {
     "name": "stdout",
     "output_type": "stream",
     "text": [
      "Processing Kepler Object: 753.01 at index: 0\n",
      "Got Kepler Object of Interest and Light Curve Files for 753.01\n",
      "Got path list of light curves.\n",
      "Finished Stiching the data for 753.01\n",
      "Finished Detrending the data for 753.01\n",
      "dtw_sap_flux: 447021.169311, dtw_sap_bkg: 59369.8402509, dtw_pd_sap_flux: 473813.686358, dtw_det_sap_flux: 0.113722836148\n",
      "Features Described Correctly.\n",
      "Dataframe Row Added Correctly.\n",
      "Processing Kepler Object: 754.01 at index: 1\n",
      "Got Kepler Object of Interest and Light Curve Files for 754.01\n",
      "Got path list of light curves.\n",
      "Finished Stiching the data for 754.01\n",
      "Finished Detrending the data for 754.01\n",
      "dtw_sap_flux: 588094.240371, dtw_sap_bkg: 65419.5889482, dtw_pd_sap_flux: 700256.139115, dtw_det_sap_flux: 0.282884093064\n",
      "Features Described Correctly.\n",
      "Dataframe Row Added Correctly.\n",
      "   kepoi_name koi_disposition   dtw_sap_flux  sap_flux_mean  sap_flux_std  \\\n",
      "0      753.01       CANDIDATE  447021.169311    7168.718262    445.189331   \n",
      "1      754.01       CANDIDATE  588094.240371    6479.114746    505.689178   \n",
      "\n",
      "   sap_flux_min  sap_flux_max   dtw_sap_bkg  sap_bkg_mean  sap_bkg_std  \\\n",
      "0   5996.772461   7949.610352  59369.840251    719.355713   120.941109   \n",
      "1   5271.307129   7513.387207  65419.588948    611.335205   151.375443   \n",
      "\n",
      "       ...        mom_centr2_min  mom_centr2_max  pos_corr1_mean  \\\n",
      "0      ...            988.572714      992.750857       -2.145796   \n",
      "1      ...            544.901977      548.947253       -3.409783   \n",
      "\n",
      "   pos_corr1_std  pos_corr1_min  pos_corr1_max  pos_corr2_mean  pos_corr2_std  \\\n",
      "0      25.815355    -313.590393       0.080978       -6.804382      81.955376   \n",
      "1      38.672947    -442.179382       0.041764       -4.218824      47.850662   \n",
      "\n",
      "   pos_corr2_min  pos_corr2_max  \n",
      "0    -993.573730       0.164598  \n",
      "1    -549.932739       0.135372  \n",
      "\n",
      "[2 rows x 38 columns]\n"
     ]
    }
   ],
   "source": [
    "# Setting the Number of cores in the computer (set up to 1 due to the fact that not all computers allow multiprocessing)\n",
    "num_cores = 1\n",
    "# Uncomment if you want to try multiprocessing\n",
    "# num_cores = multiprocessing.cpu_count()\n",
    "\n",
    "# Setting Up the Limit for notebook purpose\n",
    "LIMIT = 2\n",
    "\n",
    "Parallel(n_jobs=num_cores) \\\n",
    "    (delayed(processPlanetData) \\\n",
    "    (index, planets, df, baseline_sap_flux, baseline_sap_bkg, baseline_pd_sap_flux, baseline_det_sap_flux) \\\n",
    "     for index in range(0, LIMIT))\n",
    "\n",
    "df.to_csv(\"data/kepler_pre_ml_notebook.csv\")\n",
    "\n",
    "print df.head()"
   ]
  },
  {
   "cell_type": "markdown",
   "metadata": {},
   "source": [
    "### Implementation\n",
    "The first step toward the machine learning analysis was to read the data processed in the previous step. Subsequently, since some values were NaN, I had to clean up the exoplanet data. The dataset reduced in size of 18.07%, dropping 1595 planets. Moreover, some useful information about the data can be found below.  "
   ]
  },
  {
   "cell_type": "code",
   "execution_count": 9,
   "metadata": {
    "collapsed": false
   },
   "outputs": [
    {
     "name": "stdout",
     "output_type": "stream",
     "text": [
      "Exoplanets data read successfully!\n",
      "\n",
      "Number of exoplanetes dropped: 1595\n",
      "Number of confirmed exoplanetes dropped: 359\n",
      "Number of false positive exoplanetes dropped: 795\n",
      "Number of candidate exoplanetes dropped: 441\n",
      "Dropping Rate: 18.07%\n",
      "\n",
      "Total number of exoplanets: 7230\n",
      "Number of features: 36\n",
      "Number of confirmed exoplanets: 1930\n",
      "Number of false positive exoplanetes: 3325\n",
      "Number of candidate exoplanetes: 1975\n",
      "Number of confirmed plus false positive exoplanetes: 5255\n",
      "Discovery rate of the data: 26.69%\n"
     ]
    }
   ],
   "source": [
    "# Read Exoplanet data\n",
    "exoplanets_data_raw = pd.read_csv(\"data/kepler_pre_ml.csv\")\n",
    "print \"Exoplanets data read successfully!\"\n",
    "\n",
    "# Remove NAN raws => Corrupted data\n",
    "exoplanets_data = exoplanets_data_raw.dropna(axis=0, how='any')\n",
    "\n",
    "# Calculate number of exoplanets\n",
    "n_exoplanets = exoplanets_data.shape[0]\n",
    "\n",
    "# Calculate number of features\n",
    "n_features = exoplanets_data.shape[1] - 3 # minus index, koi_disposition and kepoi_name\n",
    "\n",
    "# Calculate confirmed exoplanets\n",
    "n_confirmed = (exoplanets_data['koi_disposition'] == 'CONFIRMED').sum()\n",
    "\n",
    "# Calculate false positive exoplanets\n",
    "n_false_positive = (exoplanets_data['koi_disposition'] == 'FALSE POSITIVE').sum()\n",
    "\n",
    "# Calculate candidate exoplanets\n",
    "n_candidate = (exoplanets_data['koi_disposition'] == 'CANDIDATE').sum()\n",
    "\n",
    "# Calculate dropped exoplanets\n",
    "n_dropped = exoplanets_data_raw.shape[0] - exoplanets_data.shape[0]\n",
    "\n",
    "# Calculate dropped confirmed exoplanets\n",
    "n_dropped_confirmed = ((exoplanets_data_raw['dtw_sap_flux'].isnull()) \n",
    "                       & (exoplanets_data_raw['koi_disposition'] == 'CONFIRMED')).sum()\n",
    "\n",
    "# Calculate dropped false positive exoplanets\n",
    "n_dropped_false_positive = ((exoplanets_data_raw['dtw_sap_flux'].isnull()) \n",
    "                            & (exoplanets_data_raw['koi_disposition'] == 'FALSE POSITIVE')).sum()\n",
    "\n",
    "# Calculate dropped candidate exoplanets\n",
    "n_dropped_candidate = ((exoplanets_data_raw['dtw_sap_flux'].isnull()) \n",
    "                       & (exoplanets_data_raw['koi_disposition'] == 'CANDIDATE')).sum()\n",
    "\n",
    "# Calculate Dropping Rate\n",
    "dropping_rate =  (float(n_dropped)/exoplanets_data_raw.shape[0])*100\n",
    "\n",
    "# Calculate discovery rate\n",
    "discovery_rate = (float(n_confirmed)/(n_exoplanets)*100)\n",
    "\n",
    "# Print the results\n",
    "print \"\\nNumber of exoplanetes dropped: {}\".format(n_dropped)\n",
    "print \"Number of confirmed exoplanetes dropped: {}\".format(n_dropped_confirmed)\n",
    "print \"Number of false positive exoplanetes dropped: {}\".format(n_dropped_false_positive)\n",
    "print \"Number of candidate exoplanetes dropped: {}\".format(n_dropped_candidate)\n",
    "print \"Dropping Rate: {:.2f}%\".format(dropping_rate)\n",
    "\n",
    "print \"\\nTotal number of exoplanets: {}\".format(n_exoplanets)\n",
    "print \"Number of features: {}\".format(n_features)\n",
    "print \"Number of confirmed exoplanets: {}\".format(n_confirmed)\n",
    "print \"Number of false positive exoplanetes: {}\".format(n_false_positive)\n",
    "print \"Number of candidate exoplanetes: {}\".format(n_candidate)\n",
    "print \"Number of confirmed plus false positive exoplanetes: {}\".format(n_confirmed + n_false_positive)\n",
    "print \"Discovery rate of the data: {:.2f}%\".format(discovery_rate)"
   ]
  },
  {
   "cell_type": "markdown",
   "metadata": {},
   "source": [
    "The next step was to choose the number of features and divide the dataset from those that are still candidate exoplanets from the already classified as confirmed or false positive. To perform feature selection, I have applied a Random Forest Classifier to each feature. The plot below shows the relevance of each feature.\n",
    "\n",
    "Finally, I reduced the number of feature by 25%, eliminating some computational cost."
   ]
  },
  {
   "cell_type": "code",
   "execution_count": 10,
   "metadata": {
    "collapsed": false
   },
   "outputs": [
    {
     "name": "stdout",
     "output_type": "stream",
     "text": [
      "Target column: koi_disposition\n"
     ]
    },
    {
     "data": {
      "image/png": "[encoded data removed]",
      "text/plain": [
       "<matplotlib.figure.Figure at 0x10a1b3310>"
      ]
     },
     "metadata": {},
     "output_type": "display_data"
    },
    {
     "name": "stdout",
     "output_type": "stream",
     "text": [
      "['dtw_det_sap_flux', 'det_sap_flux_std', 'det_sap_flux_mean', 'det_sap_flux_min', 'pos_corr2_max', 'pos_corr1_max', 'sap_bkg_max', 'det_sap_flux_max', 'dtw_sap_bkg', 'sap_flux_std', 'sap_bkg_mean', 'sap_bkg_std', 'sap_bkg_min', 'mom_centr1_std', 'mom_centr2_std', 'pos_corr1_mean', 'mom_centr1_min', 'pos_corr2_mean', 'mom_centr1_mean', 'pos_corr1_min', 'pos_corr1_std', 'mom_centr1_max', 'pos_corr2_std', 'pd_sap_flux_std', 'mom_centr2_min', 'mom_centr2_max', 'pos_corr2_min']\n",
      "\n",
      "Number of features after feature selection: 27\n"
     ]
    }
   ],
   "source": [
    "# Divide candidate planets on their respective dataframe to perform final exoplanetary search\n",
    "candidates = exoplanets_data[exoplanets_data['koi_disposition'] == 'CANDIDATE']\n",
    "exoplanets = exoplanets_data[exoplanets_data['koi_disposition'] != 'CANDIDATE']\n",
    "\n",
    "# Extract feature columns\n",
    "feature_cols = list(exoplanets_data.columns[3:])\n",
    "\n",
    "# Extract target column 'koi_disposition'\n",
    "target_col = exoplanets_data.columns[2]\n",
    "\n",
    "# Show the list of columns\n",
    "print \"Target column: {}\".format(target_col)\n",
    "\n",
    "# Separate the data into feature data and target data (X_all and y_all, respectively) also for candidates\n",
    "X_all = exoplanets[feature_cols]\n",
    "y_all = exoplanets[target_col]\n",
    "X_candidates = candidates[feature_cols]\n",
    "\n",
    "# Build a forest and compute the feature importances\n",
    "forest = ExtraTreesClassifier(n_estimators=250,\n",
    "                              random_state=0)\n",
    "\n",
    "forest.fit(X_all, y_all)\n",
    "importances = forest.feature_importances_\n",
    "std = np.std([tree.feature_importances_ for tree in forest.estimators_],axis=0)\n",
    "indices = np.argsort(importances)[::-1]\n",
    "\n",
    "# Plot the feature importances of the forest\n",
    "plt.figure(figsize=(18, 6), dpi=80)\n",
    "plt.title(\"Feature importances\")\n",
    "plt.bar(range(X_all.shape[1]), importances[indices],\n",
    "       color=\"r\", yerr=std[indices], align=\"center\")\n",
    "plt.xticks(range(X_all.shape[1]), indices)\n",
    "plt.xlim([-1, X_all.shape[1]])\n",
    "plt.show()\n",
    "\n",
    "# Remove last 25% of features\n",
    "n_features_75 = int(n_features * 0.75)\n",
    "\n",
    "# Extract feature columns\n",
    "feature_cols = list(X_all.columns[indices[0:27]])\n",
    "\n",
    "print feature_cols\n",
    "\n",
    "X_all = X_all[feature_cols]\n",
    "X_candidates = candidates[feature_cols]\n",
    "\n",
    "print \"\\nNumber of features after feature selection: {}\".format(X_all.shape[1])"
   ]
  },
  {
   "cell_type": "markdown",
   "metadata": {},
   "source": [
    "Since I have decided to choose multiple Machine learning algorithm, I have created different functions to help me simplify the process.\n",
    "- **train_classifier**: Is a function that fits the training data to the chosen classifier.\n",
    "- **predict_labels**: Is a function that returns the precision score for an already fitted classifier.\n",
    "- **predict**: Is a function that returns the prediction values for an already fitted classifier.\n",
    "- **train_predict**: Is a function that returns the prediction values of training and testing data for an already fitted classifier.\n",
    "- **k_fold_train_predict**: Is a function that performs k fold on a specific classifier."
   ]
  },
  {
   "cell_type": "code",
   "execution_count": 11,
   "metadata": {
    "collapsed": true
   },
   "outputs": [],
   "source": [
    "def train_classifier(clf, X_train, y_train):\n",
    "\n",
    "    # Fits a classifier to the training data.\n",
    "    start = time()\n",
    "    clf.fit(X_train, y_train)\n",
    "    end = time()\n",
    "\n",
    "    # Print the results\n",
    "    # print \"Trained model in {:.4f} seconds\".format(end - start) [Debug]\n",
    "\n",
    "\n",
    "def predict_labels(clf, features, target, confusion):\n",
    "\n",
    "    # Makes predictions using a fit classifier based on Precision score.\n",
    "    start = time()\n",
    "    y_pred = clf.predict(features)\n",
    "    end = time()\n",
    "    \n",
    "    # Print and return results\n",
    "    # print \"Made predictions in {:.4f} seconds.\".format(end - start)\n",
    "    \n",
    "    if confusion:\n",
    "        print \"Confusion Matrix:\"\n",
    "        print confusion_matrix(target.values, y_pred, labels=['CONFIRMED', 'FALSE POSITIVE'])\n",
    "\n",
    "    return precision_score(target.values, y_pred, pos_label='CONFIRMED')\n",
    "\n",
    "\n",
    "def predict(clf, features):\n",
    "\n",
    "    # Makes predictions using a fit classifier based on Precision score.\n",
    "    start = time()\n",
    "    y_pred = clf.predict(features)\n",
    "    end = time()\n",
    "\n",
    "    # Print and return results\n",
    "    # print \"\\nMade predictions in {:.4f} seconds.\".format(end - start)  [Debug]\n",
    "    return y_pred\n",
    "\n",
    "\n",
    "def train_predict(clf, X_train, y_train, X_test, y_test, confusion=False):\n",
    "    # Train and predict using a classifer based on F1 score.\n",
    "\n",
    "    # Train the classifier\n",
    "    train_classifier(clf, X_train, y_train)\n",
    "    \n",
    "    train_predict = predict_labels(clf, X_train, y_train, confusion)\n",
    "    test_predict = predict_labels(clf, X_test, y_test, confusion)\n",
    "    \n",
    "    # Print the results of prediction for both training and testing\n",
    "    #print \"Precision score for training set: {:.4f}.\".format(predict_labels(clf, X_train, y_train))\n",
    "    #print \"Precision score for test set: {:.4f}.\".format(predict_labels(clf, X_test, y_test))\n",
    "    \n",
    "    return train_predict, test_predict\n",
    "\n",
    "\n",
    "def k_fold_train_predict(clf, kf, X_all):\n",
    "    # Indicate the classifier\n",
    "    print \"\\nTraining a {} \".format(clf.__class__.__name__)\n",
    "    \n",
    "    results = pd.DataFrame(columns=['score_train', 'score_test'])\n",
    "    for train_index, test_index in kf:\n",
    "        X_train, X_test = X_all.iloc[train_index], X_all.iloc[test_index]\n",
    "        y_train, y_test = y_all.iloc[train_index], y_all.iloc[test_index]\n",
    "        \n",
    "        # Training and predicting the results for the model\n",
    "        predict_train, predict_test = train_predict(clf, X_train, y_train, X_test, y_test)\n",
    "        results.loc[len(results)] = [predict_train, predict_test]\n",
    "        \n",
    "    print \"The average precision score for traing is {:.4f}\" \\\n",
    "        .format(results['score_train'].describe()['mean'])\n",
    "    print \"The average precision score for traing is {:.4f}\" \\\n",
    "        .format(results['score_test'].describe()['mean'])"
   ]
  },
  {
   "cell_type": "markdown",
   "metadata": {},
   "source": [
    "Subsequently, I am initializing the different classifiers and performing a k-fold on each of them."
   ]
  },
  {
   "cell_type": "code",
   "execution_count": 13,
   "metadata": {
    "collapsed": false
   },
   "outputs": [
    {
     "name": "stdout",
     "output_type": "stream",
     "text": [
      "\n",
      "Training a GaussianNB \n",
      "The average precision score for traing is 0.3787\n",
      "The average precision score for traing is 0.3791\n",
      "\n",
      "Training a LogisticRegression \n",
      "The average precision score for traing is 0.4715\n",
      "The average precision score for traing is 0.6095\n",
      "\n",
      "Training a SVC \n",
      "The average precision score for traing is 0.9945\n",
      "The average precision score for traing is 0.9645\n",
      "\n",
      "Training a DecisionTreeClassifier \n",
      "The average precision score for traing is 0.9838\n",
      "The average precision score for traing is 0.6171\n"
     ]
    }
   ],
   "source": [
    "# Initialize the models\n",
    "clf_A = GaussianNB()\n",
    "clf_B = LogisticRegression()\n",
    "clf_C = SVC()\n",
    "clf_D = DecisionTreeClassifier()\n",
    "\n",
    "kf = KFold(len(X_all), n_folds=10, shuffle=True)\n",
    "#print kf [Debug]\n",
    "\n",
    "k_fold_train_predict(clf_A, kf, X_all)\n",
    "k_fold_train_predict(clf_B, kf, X_all)\n",
    "k_fold_train_predict(clf_C, kf, X_all)\n",
    "k_fold_train_predict(clf_D, kf, X_all)"
   ]
  },
  {
   "cell_type": "markdown",
   "metadata": {},
   "source": [
    "Finally, I am training and fitting the entire dataset to make sure the k-fold predictions are approximately correct, showing the confusion matrix to back up my assumptions."
   ]
  },
  {
   "cell_type": "code",
   "execution_count": 14,
   "metadata": {
    "collapsed": false
   },
   "outputs": [
    {
     "name": "stdout",
     "output_type": "stream",
     "text": [
      "Training set has 3941 samples.\n",
      "Testing set has 1314 samples.\n",
      "Candidates set has 1975 samples\n",
      "\n",
      "Training a GaussianNB \n",
      "Confusion Matrix:\n",
      "[[1370   64]\n",
      " [2277  230]]\n",
      "Confusion Matrix:\n",
      "[[470  26]\n",
      " [751  67]]\n",
      "Precision score for training set: 0.3757.\n",
      "Precision score for test set: 0.3849.\n",
      "\n",
      "Training a LogisticRegression \n",
      "Confusion Matrix:\n",
      "[[  26 1408]\n",
      " [  24 2483]]\n",
      "Confusion Matrix:\n",
      "[[  2 494]\n",
      " [ 15 803]]\n",
      "Precision score for training set: 0.5200.\n",
      "Precision score for test set: 0.1176.\n",
      "\n",
      "Training a SVC \n",
      "Confusion Matrix:\n",
      "[[1418   16]\n",
      " [   5 2502]]\n",
      "Confusion Matrix:\n",
      "[[192 304]\n",
      " [  7 811]]\n",
      "Precision score for training set: 0.9965.\n",
      "Precision score for test set: 0.9648.\n",
      "\n",
      "Training a DecisionTreeClassifier \n",
      "Confusion Matrix:\n",
      "[[1434    0]\n",
      " [  21 2486]]\n",
      "Confusion Matrix:\n",
      "[[325 171]\n",
      " [189 629]]\n",
      "Precision score for training set: 0.9856.\n",
      "Precision score for test set: 0.6323.\n"
     ]
    }
   ],
   "source": [
    "# Set the number of training points to 75% of data set\n",
    "num_train = int(np.floor(X_all.shape[0] * 0.75))\n",
    "\n",
    "# Set the number of testing points\n",
    "num_test = X_all.shape[0] - num_train\n",
    "\n",
    "# Shuffle and split the dataset into the number of training and testing points above\n",
    "X_train, X_test, y_train, y_test = train_test_split(X_all, y_all, test_size=num_test, random_state=69)\n",
    "\n",
    "# Show the results of the split\n",
    "print \"Training set has {} samples.\".format(X_train.shape[0])\n",
    "print \"Testing set has {} samples.\".format(X_test.shape[0])\n",
    "print \"Candidates set has {} samples\".format(X_candidates.shape[0])\n",
    "\n",
    "# Training and predicting the results for each model on the entire dataset\n",
    "print \"\\nTraining a {} \".format(clf_A.__class__.__name__)\n",
    "predict_train, predict_test = train_predict(clf_A, X_train, y_train, X_test, y_test, True)\n",
    "print \"Precision score for training set: {:.4f}.\".format(predict_train)\n",
    "print \"Precision score for test set: {:.4f}.\".format(predict_test)\n",
    "\n",
    "print \"\\nTraining a {} \".format(clf_B.__class__.__name__)\n",
    "predict_train, predict_test = train_predict(clf_B, X_train, y_train, X_test, y_test, True)\n",
    "print \"Precision score for training set: {:.4f}.\".format(predict_train)\n",
    "print \"Precision score for test set: {:.4f}.\".format(predict_test)\n",
    "\n",
    "print \"\\nTraining a {} \".format(clf_C.__class__.__name__)\n",
    "predict_train, predict_test = train_predict(clf_C, X_train, y_train, X_test, y_test, True)\n",
    "print \"Precision score for training set: {:.4f}.\".format(predict_train)\n",
    "print \"Precision score for test set: {:.4f}.\".format(predict_test)\n",
    "\n",
    "print \"\\nTraining a {} \".format(clf_D.__class__.__name__)\n",
    "predict_train, predict_test =train_predict(clf_D, X_train, y_train, X_test, y_test, True)\n",
    "print \"Precision score for training set: {:.4f}.\".format(predict_train)\n",
    "print \"Precision score for test set: {:.4f}.\".format(predict_test)"
   ]
  },
  {
   "cell_type": "markdown",
   "metadata": {},
   "source": [
    "The DecisionTreeClassifier seems to perform really well on training; However, it does not generalize very well. Logistic Regression and Naive Bayse do not seem to fit the data. \n",
    "\n",
    "From the following results, the SVC is the model that perform best on this data set, with a precision score for the test dataset equal to 0.9648. Even though SVC is negatively biased, preferring False Positive, I am okay with that bias. Indeed, this is a discovery project, therefore, I would prefer that the algorithm is negatively biased instead of being positively biased. Meaning that the planets the algorithm recognizes really are confirmed exoplanet.\n",
    "\n",
    "If the algorithm classifies something as false positive, the status of the planet will remain still as Candidate.\n",
    "\n",
    "Finally, I wanted to point out that there weren't any complications that occurred during the coding process of this section. "
   ]
  },
  {
   "cell_type": "markdown",
   "metadata": {},
   "source": [
    "### Refinement\n",
    "I have tried to perform a GridSearch on the SVC classifier; however, it does seem that any improvement has been reported on the algorithm. As you can see from the confusion matrix nothing changes from the previous reported matrix to the matrix after tuning.\n",
    "\n",
    "The parameter I have tuned for the GridSearch, with their respective range, are: C [-2, 10], gamma [-5,5], and degree [1,6]. The Final model has C = 10,  degree=10, and gamma = 0.0031622.\n",
    "\n",
    "Another thing to be noticed is that I have tried to perform normalization on the dataset; however, the SVC model did not work at all. This behavior is due to the fact that the data is been already pre-processed. Moreover, relevant features like DTW data points would loose their applicability on the overall model."
   ]
  },
  {
   "cell_type": "code",
   "execution_count": 15,
   "metadata": {
    "collapsed": false
   },
   "outputs": [
    {
     "name": "stdout",
     "output_type": "stream",
     "text": [
      "Confusion Matrix:\n",
      "[[1418   16]\n",
      " [   5 2502]]\n",
      "\n",
      "Tuned model has a training precision score of 0.9965.\n",
      "Confusion Matrix:\n",
      "[[192 304]\n",
      " [  7 811]]\n",
      "Tuned model has a testing precision score of 0.9648.\n"
     ]
    }
   ],
   "source": [
    "# Create the parameters list to tune\n",
    "C_range = np.logspace(-2, 10, 5)\n",
    "gamma_range = np.logspace(-5, 5, 5)\n",
    "degree_range = np.logspace(1, 6, 6)\n",
    "parameters = dict(gamma=gamma_range, C=C_range, degree=degree_range)\n",
    "\n",
    "# Initialize the classifier\n",
    "clf = SVC()\n",
    "\n",
    "# Make an Precision scoring function using 'make_scorer'\n",
    "precision_scorer = make_scorer(precision_score, pos_label=\"CONFIRMED\")\n",
    "\n",
    "# Perform grid search on the classifier using the f1_scorer as the scoring method\n",
    "grid_obj = GridSearchCV(clf, parameters, scoring=precision_scorer)\n",
    "\n",
    "# Fit the grid search object to the training data and find the optimal parameters\n",
    "grid_obj = grid_obj.fit(X_train, y_train)\n",
    "\n",
    "# Get the estimator\n",
    "clf = grid_obj.best_estimator_\n",
    "\n",
    "# Report the final F1 score for training and testing after parameter tuning\n",
    "print \"\\nTuned model has a training precision score of {:.4f}.\" \\\n",
    "    .format(predict_labels(clf, X_train, y_train, True))\n",
    "print \"Tuned model has a testing precision score of {:.4f}.\" \\\n",
    ".format(predict_labels(clf, X_test, y_test, True))"
   ]
  },
  {
   "cell_type": "markdown",
   "metadata": {},
   "source": [
    "## IV. Results"
   ]
  },
  {
   "cell_type": "code",
   "execution_count": 16,
   "metadata": {
    "collapsed": false
   },
   "outputs": [
    {
     "name": "stdout",
     "output_type": "stream",
     "text": [
      "\n",
      "Exoplanets: 144 have been Confirmed!\n",
      "\n",
      "Exoplanets: 1831 are False Positive!\n",
      "\n",
      "Discovery Rate: 7.2911%\n"
     ]
    }
   ],
   "source": [
    "def discover_possible_exoplanets(clf, X_candidates, candidates):\n",
    "    # Setting up confirmed and false positive array\n",
    "    confirmed = []\n",
    "    false_positive = []\n",
    "    \n",
    "    # Predicting the candidate exoplanets\n",
    "    results = pd.Series(predict(clf, X_candidates), index=candidates.index)\n",
    "    candidates.insert(3, 'koi_disposition_pred', results)\n",
    "    \n",
    "    # Looping trough all the planets predictions\n",
    "    for index, planet in candidates.iterrows():\n",
    "        if planet['koi_disposition_pred'] == 'CONFIRMED':\n",
    "            confirmed.append({ 'name': planet['kepoi_name'], 'index': planet['index']})\n",
    "        else:\n",
    "            false_positive.append({'name': planet['kepoi_name'], 'index': planet['index']})\n",
    "\n",
    "    discovery_rate = float(len(confirmed))/candidates.shape[0]*100\n",
    "\n",
    "    print \"\\nExoplanets: {} have been Confirmed!\".format(len(confirmed))\n",
    "    print \"\\nExoplanets: {} are False Positive!\".format(len(false_positive))\n",
    "    print \"\\nDiscovery Rate: {:.4f}%\".format(discovery_rate)\n",
    "\n",
    "discover_possible_exoplanets(clf,X_candidates, candidates)"
   ]
  },
  {
   "cell_type": "markdown",
   "metadata": {},
   "source": [
    "### Model Evaluation and Validation\n",
    "The support Vector Classifier (SVC) works better than predicted, even though is a little bit negatively biased, as you can see from the confusion matrix. As a matter of fact, the model has been tested with various inputs to evaluate whether the model generalizes well to unseen data. Indeed, the average precision score for the k-fold testing set is 0.9645 and the precision score of the entire dataset is 0.9648.\n",
    "\n",
    "Further, I was pleasantly surprised to discover that the model prediction on the still candidate planets confirmed 144 exoplanets. I am not an astrophysicist, so there are no ways for me to validate this prediction. The only way would be scientist releasing results on the candidate planets and compare those results with the prediction from the model."
   ]
  },
  {
   "cell_type": "markdown",
   "metadata": {},
   "source": [
    "### Justification\n",
    "The final results found are stronger than the benchmark results reported earlier. Indeed, I predicted that the precision score would have been 60%; however, the score I got was 96.48%.  I was not expecting such an amazing prediction. I believed that the data processing step contributed a lot to this results. The Dynamic Time Wrapping algorithm does an amazing job to compare the light curves, and without it I would have never reported this results. This machine learning approach would facilitate a lot the exoplanetary search for scientists."
   ]
  },
  {
   "cell_type": "markdown",
   "metadata": {},
   "source": [
    "## V. Conclusion"
   ]
  },
  {
   "cell_type": "markdown",
   "metadata": {},
   "source": [
    "### Free-Form Visualization\n",
    "One thing I want to point out is the fact that at the beginning I thought that the light curves the dynamic time wrapping algorithm could not process meant something. Therefore, I performed an analysis to see if there was any correlation between the number of dropped planets and their relative category (candidate, false positive, confirmed). As the plot below shows, there is not any correlation between the dropping rate and relative category of a planet. Indeed, the ratio of the number of each category dropped over the total number of planet for the respective category is between 0.15 and 0.20. This is consistent either between the 3 category, and with the total dropping rate of the dataset, which is 18.07%. I assume that my implementation of the DTW does not perform well with parallelized computing. ![Dropping Rate Ratio](images/dropping_rate_ratio.png \"Dropping Rate Ratio\")"
   ]
  },
  {
   "cell_type": "markdown",
   "metadata": {},
   "source": [
    "### Reflection\n",
    "This project started thanks to my passion for astrophysics. The first, and most difficult step was to collect the data of all the exoplanet, and processing it. Subsequently, the data had to be fitted to different models to check which one would perform best. Finally, with the best model, predict the faith of the still candidate exoplanets.\n",
    "\n",
    "The entire project was difficult to put together, but at the same time rewarding thanks to the results obtained. I learned a lot about astrophysics, and the final results exceeded my  expectations."
   ]
  },
  {
   "cell_type": "markdown",
   "metadata": {},
   "source": [
    "### Improvement\n",
    "One improvement that could be performed in the data processing section is to use a different algorithm to compare the two light curves. Indeed, while I was researching, I found this algorithm called Fast Time Series Evaluation (FTSE)[6], that could have given a faster and more accurate result compared with the Dynamic Time Warping algorithm. However, the research paper was not really clear on how the implement the algorithm, and I ended up using DTW.\n",
    "\n",
    "Another improvement that could be performed is to refactor the code, setting the target labels to boolean values, and implement other statistical machine learning algorithms, such as perceptron, and k-nearest neighbors.\n",
    "\n",
    "Another approach to this problem would have been using the photos taken from the Kepler telescope and apply a Deep Neural Networks to recognize planetary transit. However, this would have taken more time than required, and would have been out of scope."
   ]
  },
  {
   "cell_type": "markdown",
   "metadata": {},
   "source": [
    "## Citations"
   ]
  },
  {
   "cell_type": "markdown",
   "metadata": {},
   "source": [
    "[1]\n",
    "*A Jupiter-mass companion to a solar-type star*.\n",
    "**Michel Mayor & Didier Queloz**.\n",
    "http://www.nature.com/nature/journal/v378/n6555/abs/378355a0.html\n",
    "Nature, 378, 355-359.\n",
    "November 23, 1995.\n",
    "\n",
    "[2]\n",
    "*Kepler Mission/QuickGuide*.\n",
    "**Nasa Staff**.\n",
    "http://kepler.nasa.gov/Mission/QuickGuide/\n",
    "July 25, 2016.\n",
    "\n",
    "[3]\n",
    "*Kepler Archive Manual*.\n",
    "**Nasa**.\n",
    "http://archive.stsci.edu/kepler/manuals/archive_manual.pdf\n",
    "July 28, 2016.\n",
    "\n",
    "[4]\n",
    "*Everything you know about Dynamic Time Warping is Wrong*.\n",
    "**Chotirat Ratanamahatana & Eamonn Keogh **.\n",
    "http://wearables.cc.gatech.edu/paper_of_week/DTW_myths.pdf\n",
    "University of California, Riverside.\n",
    "July 28, 2016.\n",
    "\n",
    "[5]\n",
    "*Using Dynamic Time Warping toFind Patterns in Time Serie*.\n",
    "**Donald J. Bemd & James Cliffor**.\n",
    "http://www.aaai.org/Papers/Workshops/1994/WS-94-03/WS94-03-031.pdf\n",
    "New York University, New York.\n",
    "July 28, 2016.\n",
    "\n",
    "[6]\n",
    "*An Efficient and Accurate Method for Evaluating Time Series Similarity*.\n",
    "**Michael Morse & Jignesh M. Patel**.\n",
    "http://dbgroup.eecs.umich.edu/files/sigmod07timeseries.pdf\n",
    "University of Michigan Ann Arbor, Michigan.\n",
    "August 02, 2016."
   ]
  }
 ],
 "metadata": {
  "kernelspec": {
   "display_name": "Python 2",
   "language": "python",
   "name": "python2"
  },
  "language_info": {
   "codemirror_mode": {
    "name": "ipython",
    "version": 2
   },
   "file_extension": ".py",
   "mimetype": "text/x-python",
   "name": "python",
   "nbconvert_exporter": "python",
   "pygments_lexer": "ipython2",
   "version": "2.7.10"
  }
 },
 "nbformat": 4,
 "nbformat_minor": 0
}
